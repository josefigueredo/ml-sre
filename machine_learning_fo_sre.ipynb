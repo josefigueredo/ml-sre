{
 "cells": [
  {
   "cell_type": "markdown",
   "metadata": {},
   "source": [
    "# Machine learning for SRE"
   ]
  },
  {
   "cell_type": "code",
   "execution_count": 1,
   "metadata": {},
   "outputs": [
    {
     "name": "stdout",
     "output_type": "stream",
     "text": [
      "Requirement already satisfied: numpy in /home/josefigueredo/anaconda3/lib/python3.7/site-packages (1.17.2)\n",
      "Requirement already satisfied: scipy in /home/josefigueredo/anaconda3/lib/python3.7/site-packages (1.3.1)\n",
      "Requirement already satisfied: scikit-learn in /home/josefigueredo/anaconda3/lib/python3.7/site-packages (0.20.3)\n",
      "Collecting graphviz\n",
      "  Downloading https://files.pythonhosted.org/packages/94/cd/7b37f2b658995033879719e1ea4c9f171bf7a14c16b79220bd19f9eda3fe/graphviz-0.13-py2.py3-none-any.whl\n",
      "Installing collected packages: graphviz\n",
      "Successfully installed graphviz-0.13\n"
     ]
    }
   ],
   "source": [
    "!pip install numpy scipy scikit-learn graphviz"
   ]
  },
  {
   "cell_type": "code",
   "execution_count": null,
   "metadata": {},
   "outputs": [],
   "source": [
    "# In a shell: sudo apt-get install graphviz"
   ]
  },
  {
   "cell_type": "code",
   "execution_count": 5,
   "metadata": {},
   "outputs": [],
   "source": [
    "from sklearn import tree\n",
    "import graphviz\n",
    "\n",
    "# training data: [Status, CPU, RAM, STORAGE]\n",
    "data = [\n",
    "  ['healthy', 45, 32, 65],\n",
    "  ['unhealthy', 87, 67, 100],\n",
    "  ['unhealthy', 100, 1, 1],\n",
    "  ['unhealthy', 76, 70, 90],\n",
    "  ['unhealthy', 1, 1, 100],\n",
    "  ['unhealthy', 31, 100, 50],\n",
    "  ['healthy', 12, 65, 39],\n",
    "  ['healthy', 20, 10, 46],\n",
    "  ['unhealthy', 100, 50, 50],\n",
    "  ['healthy', 34, 70, 37],\n",
    "  ['healthy', 1, 50, 50],\n",
    "  ['unhealthy', 50, 50, 100],\n",
    "  ['healthy', 50, 1, 50],\n",
    "  ['unhealthy', 1, 100, 1],\n",
    "  ['healthy', 50, 50, 1],\n",
    "  ['healthy', 53, 53, 80],\n",
    "]\n"
   ]
  },
  {
   "cell_type": "code",
   "execution_count": 11,
   "metadata": {},
   "outputs": [
    {
     "data": {
      "text/plain": [
       "[[45, 32, 65],\n",
       " [87, 67, 100],\n",
       " [100, 1, 1],\n",
       " [76, 70, 90],\n",
       " [1, 1, 100],\n",
       " [31, 100, 50],\n",
       " [12, 65, 39],\n",
       " [20, 10, 46],\n",
       " [100, 50, 50],\n",
       " [34, 70, 37],\n",
       " [1, 50, 50],\n",
       " [50, 50, 100],\n",
       " [50, 1, 50],\n",
       " [1, 100, 1],\n",
       " [50, 50, 1],\n",
       " [53, 53, 80]]"
      ]
     },
     "execution_count": 11,
     "metadata": {},
     "output_type": "execute_result"
    }
   ],
   "source": [
    "metrics = [row[1:] for row in data]\n",
    "metrics"
   ]
  },
  {
   "cell_type": "code",
   "execution_count": 12,
   "metadata": {},
   "outputs": [
    {
     "data": {
      "text/plain": [
       "['healthy',\n",
       " 'unhealthy',\n",
       " 'unhealthy',\n",
       " 'unhealthy',\n",
       " 'unhealthy',\n",
       " 'unhealthy',\n",
       " 'healthy',\n",
       " 'healthy',\n",
       " 'unhealthy',\n",
       " 'healthy',\n",
       " 'healthy',\n",
       " 'unhealthy',\n",
       " 'healthy',\n",
       " 'unhealthy',\n",
       " 'healthy',\n",
       " 'healthy']"
      ]
     },
     "execution_count": 12,
     "metadata": {},
     "output_type": "execute_result"
    }
   ],
   "source": [
    "states = [row[0] for row in data]\n",
    "states"
   ]
  },
  {
   "cell_type": "code",
   "execution_count": 13,
   "metadata": {},
   "outputs": [
    {
     "data": {
      "text/plain": [
       "DecisionTreeClassifier(class_weight=None, criterion='gini', max_depth=None,\n",
       "            max_features=None, max_leaf_nodes=None,\n",
       "            min_impurity_decrease=0.0, min_impurity_split=None,\n",
       "            min_samples_leaf=1, min_samples_split=2,\n",
       "            min_weight_fraction_leaf=0.0, presort=False, random_state=None,\n",
       "            splitter='best')"
      ]
     },
     "execution_count": 13,
     "metadata": {},
     "output_type": "execute_result"
    }
   ],
   "source": [
    "mytree = tree.DecisionTreeClassifier()\n",
    "mytree = mytree.fit(metrics, states)\n",
    "mytree"
   ]
  },
  {
   "cell_type": "code",
   "execution_count": 14,
   "metadata": {},
   "outputs": [
    {
     "name": "stdout",
     "output_type": "stream",
     "text": [
      "10% CPU, 80% RAM, 10% Storage ['healthy']\n"
     ]
    }
   ],
   "source": [
    "# is 10% cpu, 80% RAM, 10% Storage healthy?\n",
    "result = (mytree.predict([[10, 80, 10]]))\n",
    "print(\"10% CPU, 80% RAM, 10% Storage\", result)"
   ]
  },
  {
   "cell_type": "code",
   "execution_count": 15,
   "metadata": {},
   "outputs": [
    {
     "name": "stdout",
     "output_type": "stream",
     "text": [
      "80% CPU, 10% RAM, 90% Storage (high) ['unhealthy']\n"
     ]
    }
   ],
   "source": [
    "# is 80% cpu, 10% RAM, 90% Storage healthy?\n",
    "result = mytree.predict([[80, 10, 90]])\n",
    "print(\"80% CPU, 10% RAM, 90% Storage (high)\", result)"
   ]
  },
  {
   "cell_type": "code",
   "execution_count": 16,
   "metadata": {},
   "outputs": [
    {
     "name": "stdout",
     "output_type": "stream",
     "text": [
      "60% CPU, 90% RAM (high), 10% Storage ['unhealthy']\n"
     ]
    }
   ],
   "source": [
    "# is 60% cpu, 90% RAM, 10% Storage healthy?\n",
    "result = mytree.predict([[60, 90, 10]])\n",
    "print(\"60% CPU, 90% RAM (high), 10% Storage\", result)"
   ]
  },
  {
   "cell_type": "code",
   "execution_count": 20,
   "metadata": {},
   "outputs": [
    {
     "data": {
      "image/svg+xml": [
       "<?xml version=\"1.0\" encoding=\"UTF-8\" standalone=\"no\"?>\n",
       "<!DOCTYPE svg PUBLIC \"-//W3C//DTD SVG 1.1//EN\"\n",
       " \"http://www.w3.org/Graphics/SVG/1.1/DTD/svg11.dtd\">\n",
       "<!-- Generated by graphviz version 2.40.1 (20161225.0304)\n",
       " -->\n",
       "<!-- Title: Tree Pages: 1 -->\n",
       "<svg width=\"390pt\" height=\"433pt\"\n",
       " viewBox=\"0.00 0.00 389.50 433.00\" xmlns=\"http://www.w3.org/2000/svg\" xmlns:xlink=\"http://www.w3.org/1999/xlink\">\n",
       "<g id=\"graph0\" class=\"graph\" transform=\"scale(1 1) rotate(0) translate(4 429)\">\n",
       "<title>Tree</title>\n",
       "<polygon fill=\"#ffffff\" stroke=\"transparent\" points=\"-4,4 -4,-429 385.5,-429 385.5,4 -4,4\"/>\n",
       "<!-- 0 -->\n",
       "<g id=\"node1\" class=\"node\">\n",
       "<title>0</title>\n",
       "<path fill=\"transparent\" stroke=\"#000000\" d=\"M295,-425C295,-425 212,-425 212,-425 206,-425 200,-419 200,-413 200,-413 200,-354 200,-354 200,-348 206,-342 212,-342 212,-342 295,-342 295,-342 301,-342 307,-348 307,-354 307,-354 307,-413 307,-413 307,-419 301,-425 295,-425\"/>\n",
       "<text text-anchor=\"middle\" x=\"253.5\" y=\"-409.8\" font-family=\"Helvetica,sans-Serif\" font-size=\"14.00\" fill=\"#000000\">CPU &lt;= 64.5</text>\n",
       "<text text-anchor=\"middle\" x=\"253.5\" y=\"-394.8\" font-family=\"Helvetica,sans-Serif\" font-size=\"14.00\" fill=\"#000000\">gini = 0.5</text>\n",
       "<text text-anchor=\"middle\" x=\"253.5\" y=\"-379.8\" font-family=\"Helvetica,sans-Serif\" font-size=\"14.00\" fill=\"#000000\">samples = 16</text>\n",
       "<text text-anchor=\"middle\" x=\"253.5\" y=\"-364.8\" font-family=\"Helvetica,sans-Serif\" font-size=\"14.00\" fill=\"#000000\">value = [8, 8]</text>\n",
       "<text text-anchor=\"middle\" x=\"253.5\" y=\"-349.8\" font-family=\"Helvetica,sans-Serif\" font-size=\"14.00\" fill=\"#000000\">class = healthy</text>\n",
       "</g>\n",
       "<!-- 1 -->\n",
       "<g id=\"node2\" class=\"node\">\n",
       "<title>1</title>\n",
       "<path fill=\"#e58139\" fill-opacity=\"0.498039\" stroke=\"#000000\" d=\"M229,-306C229,-306 146,-306 146,-306 140,-306 134,-300 134,-294 134,-294 134,-235 134,-235 134,-229 140,-223 146,-223 146,-223 229,-223 229,-223 235,-223 241,-229 241,-235 241,-235 241,-294 241,-294 241,-300 235,-306 229,-306\"/>\n",
       "<text text-anchor=\"middle\" x=\"187.5\" y=\"-290.8\" font-family=\"Helvetica,sans-Serif\" font-size=\"14.00\" fill=\"#000000\">RAM &lt;= 85.0</text>\n",
       "<text text-anchor=\"middle\" x=\"187.5\" y=\"-275.8\" font-family=\"Helvetica,sans-Serif\" font-size=\"14.00\" fill=\"#000000\">gini = 0.444</text>\n",
       "<text text-anchor=\"middle\" x=\"187.5\" y=\"-260.8\" font-family=\"Helvetica,sans-Serif\" font-size=\"14.00\" fill=\"#000000\">samples = 12</text>\n",
       "<text text-anchor=\"middle\" x=\"187.5\" y=\"-245.8\" font-family=\"Helvetica,sans-Serif\" font-size=\"14.00\" fill=\"#000000\">value = [8, 4]</text>\n",
       "<text text-anchor=\"middle\" x=\"187.5\" y=\"-230.8\" font-family=\"Helvetica,sans-Serif\" font-size=\"14.00\" fill=\"#000000\">class = healthy</text>\n",
       "</g>\n",
       "<!-- 0&#45;&gt;1 -->\n",
       "<g id=\"edge1\" class=\"edge\">\n",
       "<title>0&#45;&gt;1</title>\n",
       "<path fill=\"none\" stroke=\"#000000\" d=\"M230.4164,-341.8796C225.6211,-333.2335 220.5178,-324.0322 215.5662,-315.1042\"/>\n",
       "<polygon fill=\"#000000\" stroke=\"#000000\" points=\"218.5931,-313.3455 210.6821,-306.2981 212.4716,-316.7407 218.5931,-313.3455\"/>\n",
       "<text text-anchor=\"middle\" x=\"203.7969\" y=\"-326.6313\" font-family=\"Helvetica,sans-Serif\" font-size=\"14.00\" fill=\"#000000\">True</text>\n",
       "</g>\n",
       "<!-- 6 -->\n",
       "<g id=\"node7\" class=\"node\">\n",
       "<title>6</title>\n",
       "<path fill=\"#399de5\" stroke=\"#000000\" d=\"M369.5,-298.5C369.5,-298.5 271.5,-298.5 271.5,-298.5 265.5,-298.5 259.5,-292.5 259.5,-286.5 259.5,-286.5 259.5,-242.5 259.5,-242.5 259.5,-236.5 265.5,-230.5 271.5,-230.5 271.5,-230.5 369.5,-230.5 369.5,-230.5 375.5,-230.5 381.5,-236.5 381.5,-242.5 381.5,-242.5 381.5,-286.5 381.5,-286.5 381.5,-292.5 375.5,-298.5 369.5,-298.5\"/>\n",
       "<text text-anchor=\"middle\" x=\"320.5\" y=\"-283.3\" font-family=\"Helvetica,sans-Serif\" font-size=\"14.00\" fill=\"#000000\">gini = 0.0</text>\n",
       "<text text-anchor=\"middle\" x=\"320.5\" y=\"-268.3\" font-family=\"Helvetica,sans-Serif\" font-size=\"14.00\" fill=\"#000000\">samples = 4</text>\n",
       "<text text-anchor=\"middle\" x=\"320.5\" y=\"-253.3\" font-family=\"Helvetica,sans-Serif\" font-size=\"14.00\" fill=\"#000000\">value = [0, 4]</text>\n",
       "<text text-anchor=\"middle\" x=\"320.5\" y=\"-238.3\" font-family=\"Helvetica,sans-Serif\" font-size=\"14.00\" fill=\"#000000\">class = unhealthy</text>\n",
       "</g>\n",
       "<!-- 0&#45;&gt;6 -->\n",
       "<g id=\"edge6\" class=\"edge\">\n",
       "<title>0&#45;&gt;6</title>\n",
       "<path fill=\"none\" stroke=\"#000000\" d=\"M276.9333,-341.8796C283.1863,-330.7735 289.9552,-318.7513 296.251,-307.5691\"/>\n",
       "<polygon fill=\"#000000\" stroke=\"#000000\" points=\"299.3235,-309.2459 301.1798,-298.8149 293.2239,-305.8116 299.3235,-309.2459\"/>\n",
       "<text text-anchor=\"middle\" x=\"307.911\" y=\"-319.1917\" font-family=\"Helvetica,sans-Serif\" font-size=\"14.00\" fill=\"#000000\">False</text>\n",
       "</g>\n",
       "<!-- 2 -->\n",
       "<g id=\"node3\" class=\"node\">\n",
       "<title>2</title>\n",
       "<path fill=\"#e58139\" fill-opacity=\"0.749020\" stroke=\"#000000\" d=\"M164.5,-187C164.5,-187 74.5,-187 74.5,-187 68.5,-187 62.5,-181 62.5,-175 62.5,-175 62.5,-116 62.5,-116 62.5,-110 68.5,-104 74.5,-104 74.5,-104 164.5,-104 164.5,-104 170.5,-104 176.5,-110 176.5,-116 176.5,-116 176.5,-175 176.5,-175 176.5,-181 170.5,-187 164.5,-187\"/>\n",
       "<text text-anchor=\"middle\" x=\"119.5\" y=\"-171.8\" font-family=\"Helvetica,sans-Serif\" font-size=\"14.00\" fill=\"#000000\">Storage &lt;= 90.0</text>\n",
       "<text text-anchor=\"middle\" x=\"119.5\" y=\"-156.8\" font-family=\"Helvetica,sans-Serif\" font-size=\"14.00\" fill=\"#000000\">gini = 0.32</text>\n",
       "<text text-anchor=\"middle\" x=\"119.5\" y=\"-141.8\" font-family=\"Helvetica,sans-Serif\" font-size=\"14.00\" fill=\"#000000\">samples = 10</text>\n",
       "<text text-anchor=\"middle\" x=\"119.5\" y=\"-126.8\" font-family=\"Helvetica,sans-Serif\" font-size=\"14.00\" fill=\"#000000\">value = [8, 2]</text>\n",
       "<text text-anchor=\"middle\" x=\"119.5\" y=\"-111.8\" font-family=\"Helvetica,sans-Serif\" font-size=\"14.00\" fill=\"#000000\">class = healthy</text>\n",
       "</g>\n",
       "<!-- 1&#45;&gt;2 -->\n",
       "<g id=\"edge2\" class=\"edge\">\n",
       "<title>1&#45;&gt;2</title>\n",
       "<path fill=\"none\" stroke=\"#000000\" d=\"M163.7169,-222.8796C158.7763,-214.2335 153.5184,-205.0322 148.4167,-196.1042\"/>\n",
       "<polygon fill=\"#000000\" stroke=\"#000000\" points=\"151.3849,-194.244 143.3846,-187.2981 145.3072,-197.717 151.3849,-194.244\"/>\n",
       "</g>\n",
       "<!-- 5 -->\n",
       "<g id=\"node6\" class=\"node\">\n",
       "<title>5</title>\n",
       "<path fill=\"#399de5\" stroke=\"#000000\" d=\"M304.5,-179.5C304.5,-179.5 206.5,-179.5 206.5,-179.5 200.5,-179.5 194.5,-173.5 194.5,-167.5 194.5,-167.5 194.5,-123.5 194.5,-123.5 194.5,-117.5 200.5,-111.5 206.5,-111.5 206.5,-111.5 304.5,-111.5 304.5,-111.5 310.5,-111.5 316.5,-117.5 316.5,-123.5 316.5,-123.5 316.5,-167.5 316.5,-167.5 316.5,-173.5 310.5,-179.5 304.5,-179.5\"/>\n",
       "<text text-anchor=\"middle\" x=\"255.5\" y=\"-164.3\" font-family=\"Helvetica,sans-Serif\" font-size=\"14.00\" fill=\"#000000\">gini = 0.0</text>\n",
       "<text text-anchor=\"middle\" x=\"255.5\" y=\"-149.3\" font-family=\"Helvetica,sans-Serif\" font-size=\"14.00\" fill=\"#000000\">samples = 2</text>\n",
       "<text text-anchor=\"middle\" x=\"255.5\" y=\"-134.3\" font-family=\"Helvetica,sans-Serif\" font-size=\"14.00\" fill=\"#000000\">value = [0, 2]</text>\n",
       "<text text-anchor=\"middle\" x=\"255.5\" y=\"-119.3\" font-family=\"Helvetica,sans-Serif\" font-size=\"14.00\" fill=\"#000000\">class = unhealthy</text>\n",
       "</g>\n",
       "<!-- 1&#45;&gt;5 -->\n",
       "<g id=\"edge5\" class=\"edge\">\n",
       "<title>1&#45;&gt;5</title>\n",
       "<path fill=\"none\" stroke=\"#000000\" d=\"M211.2831,-222.8796C217.6294,-211.7735 224.4993,-199.7513 230.8891,-188.5691\"/>\n",
       "<polygon fill=\"#000000\" stroke=\"#000000\" points=\"233.9689,-190.2339 235.8915,-179.8149 227.8912,-186.7609 233.9689,-190.2339\"/>\n",
       "</g>\n",
       "<!-- 3 -->\n",
       "<g id=\"node4\" class=\"node\">\n",
       "<title>3</title>\n",
       "<path fill=\"#e58139\" stroke=\"#000000\" d=\"M95,-68C95,-68 12,-68 12,-68 6,-68 0,-62 0,-56 0,-56 0,-12 0,-12 0,-6 6,0 12,0 12,0 95,0 95,0 101,0 107,-6 107,-12 107,-12 107,-56 107,-56 107,-62 101,-68 95,-68\"/>\n",
       "<text text-anchor=\"middle\" x=\"53.5\" y=\"-52.8\" font-family=\"Helvetica,sans-Serif\" font-size=\"14.00\" fill=\"#000000\">gini = 0.0</text>\n",
       "<text text-anchor=\"middle\" x=\"53.5\" y=\"-37.8\" font-family=\"Helvetica,sans-Serif\" font-size=\"14.00\" fill=\"#000000\">samples = 8</text>\n",
       "<text text-anchor=\"middle\" x=\"53.5\" y=\"-22.8\" font-family=\"Helvetica,sans-Serif\" font-size=\"14.00\" fill=\"#000000\">value = [8, 0]</text>\n",
       "<text text-anchor=\"middle\" x=\"53.5\" y=\"-7.8\" font-family=\"Helvetica,sans-Serif\" font-size=\"14.00\" fill=\"#000000\">class = healthy</text>\n",
       "</g>\n",
       "<!-- 2&#45;&gt;3 -->\n",
       "<g id=\"edge3\" class=\"edge\">\n",
       "<title>2&#45;&gt;3</title>\n",
       "<path fill=\"none\" stroke=\"#000000\" d=\"M94.924,-103.9815C89.7014,-95.1585 84.1771,-85.8258 78.9237,-76.9506\"/>\n",
       "<polygon fill=\"#000000\" stroke=\"#000000\" points=\"81.8874,-75.0863 73.7816,-68.2637 75.8636,-78.652 81.8874,-75.0863\"/>\n",
       "</g>\n",
       "<!-- 4 -->\n",
       "<g id=\"node5\" class=\"node\">\n",
       "<title>4</title>\n",
       "<path fill=\"#399de5\" stroke=\"#000000\" d=\"M235.5,-68C235.5,-68 137.5,-68 137.5,-68 131.5,-68 125.5,-62 125.5,-56 125.5,-56 125.5,-12 125.5,-12 125.5,-6 131.5,0 137.5,0 137.5,0 235.5,0 235.5,0 241.5,0 247.5,-6 247.5,-12 247.5,-12 247.5,-56 247.5,-56 247.5,-62 241.5,-68 235.5,-68\"/>\n",
       "<text text-anchor=\"middle\" x=\"186.5\" y=\"-52.8\" font-family=\"Helvetica,sans-Serif\" font-size=\"14.00\" fill=\"#000000\">gini = 0.0</text>\n",
       "<text text-anchor=\"middle\" x=\"186.5\" y=\"-37.8\" font-family=\"Helvetica,sans-Serif\" font-size=\"14.00\" fill=\"#000000\">samples = 2</text>\n",
       "<text text-anchor=\"middle\" x=\"186.5\" y=\"-22.8\" font-family=\"Helvetica,sans-Serif\" font-size=\"14.00\" fill=\"#000000\">value = [0, 2]</text>\n",
       "<text text-anchor=\"middle\" x=\"186.5\" y=\"-7.8\" font-family=\"Helvetica,sans-Serif\" font-size=\"14.00\" fill=\"#000000\">class = unhealthy</text>\n",
       "</g>\n",
       "<!-- 2&#45;&gt;4 -->\n",
       "<g id=\"edge4\" class=\"edge\">\n",
       "<title>2&#45;&gt;4</title>\n",
       "<path fill=\"none\" stroke=\"#000000\" d=\"M144.4483,-103.9815C149.7501,-95.1585 155.3581,-85.8258 160.6911,-76.9506\"/>\n",
       "<polygon fill=\"#000000\" stroke=\"#000000\" points=\"163.7605,-78.638 165.9111,-68.2637 157.7604,-75.0325 163.7605,-78.638\"/>\n",
       "</g>\n",
       "</g>\n",
       "</svg>\n"
      ],
      "text/plain": [
       "<graphviz.files.Source at 0x7f4a49bf06d8>"
      ]
     },
     "execution_count": 20,
     "metadata": {},
     "output_type": "execute_result"
    }
   ],
   "source": [
    "# Visualize the decision tree\n",
    "dot_data = tree.export_graphviz(mytree,\n",
    "  feature_names=['CPU','RAM','Storage'],\n",
    "  class_names=['healthy','unhealthy'],\n",
    "  filled=True,\n",
    "  rounded=True,\n",
    "  out_file=None)\n",
    "\n",
    "graphviz.Source(dot_data)"
   ]
  }
 ],
 "metadata": {
  "kernelspec": {
   "display_name": "Python 3",
   "language": "python",
   "name": "python3"
  },
  "language_info": {
   "codemirror_mode": {
    "name": "ipython",
    "version": 3
   },
   "file_extension": ".py",
   "mimetype": "text/x-python",
   "name": "python",
   "nbconvert_exporter": "python",
   "pygments_lexer": "ipython3",
   "version": "3.7.3"
  }
 },
 "nbformat": 4,
 "nbformat_minor": 2
}
